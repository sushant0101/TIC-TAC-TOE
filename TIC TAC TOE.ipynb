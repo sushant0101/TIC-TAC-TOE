{
 "cells": [
  {
   "cell_type": "code",
   "execution_count": 1,
   "metadata": {},
   "outputs": [],
   "source": [
    "board = [' ' for x in range(10)]"
   ]
  },
  {
   "cell_type": "code",
   "execution_count": 2,
   "metadata": {},
   "outputs": [],
   "source": [
    "def insertBoard(letter, pos):\n",
    "     board[pos] = letter"
   ]
  },
  {
   "cell_type": "code",
   "execution_count": 3,
   "metadata": {},
   "outputs": [],
   "source": [
    "def spaceIsFree(pos):\n",
    "     return board[pos] == ' '"
   ]
  },
  {
   "cell_type": "code",
   "execution_count": 4,
   "metadata": {},
   "outputs": [],
   "source": [
    "def printBoard(board):\n",
    "    # \"board\" is a list of 10 strings representing the board (ignore index 0)\n",
    "    print('   |   |')\n",
    "    print(' ' + board[1] + ' | ' + board[2] + ' | ' + board[3])\n",
    "    print('   |   |')\n",
    "    print('-----------')\n",
    "    print('   |   |')\n",
    "    print(' ' + board[4] + ' | ' + board[5] + ' | ' + board[6])\n",
    "    print('   |   |')\n",
    "    print('-----------')\n",
    "    print('   |   |')\n",
    "    print(' ' + board[7] + ' | ' + board[8] + ' | ' + board[9])\n",
    "    print('   |   |')"
   ]
  },
  {
   "cell_type": "code",
   "execution_count": 5,
   "metadata": {},
   "outputs": [],
   "source": [
    "def isWinner(bo, le):\n",
    "    # Given a board and a player’s letter, this function returns True if that player has won.\n",
    "    # We use bo instead of board and le instead of letter so we don’t have to type as much.\n",
    "    return ((bo[7] == le and bo[8] == le and bo[9] == le) or # across the top\n",
    "    (bo[4] == le and bo[5] == le and bo[6] == le) or # across the middle\n",
    "    (bo[1] == le and bo[2] == le and bo[3] == le) or # across the bottom\n",
    "    (bo[7] == le and bo[4] == le and bo[1] == le) or # down the left side\n",
    "    (bo[8] == le and bo[5] == le and bo[2] == le) or # down the middle\n",
    "    (bo[9] == le and bo[6] == le and bo[3] == le) or # down the right side\n",
    "    (bo[7] == le and bo[5] == le and bo[3] == le) or # diagonal\n",
    "    (bo[9] == le and bo[5] == le and bo[1] == le)) # diagonal\n"
   ]
  },
  {
   "cell_type": "code",
   "execution_count": 6,
   "metadata": {},
   "outputs": [],
   "source": [
    "def main():\n",
    "    #Main game loop\n",
    "    print('Welcome to Tic Tac Toe, to win complete a straight line of your letter (Diagonal, Horizontal, Vertical). The board has positions 1-9 starting at the top left.')\n",
    "    printBoard()\n",
    "\n",
    "    while not(isBoardFull(board)):\n",
    "        if not(isWinner(board, 'O')):\n",
    "            playerMove()\n",
    "            printBoard()\n",
    "        else:\n",
    "            print('O\\'s win this time...')\n",
    "            break\n",
    "\n",
    "        \n",
    "        if not(isWinner(board, 'X')):\n",
    "            move = compMove()\n",
    "            if move == 0:\n",
    "                print('Game is a Tie! No more spaces left to move.')\n",
    "            else:\n",
    "                insertBoard('O', move)\n",
    "                print('Computer placed an \\'O\\' in position', move, ':')\n",
    "                printBoard()\n",
    "        else:\n",
    "            print('X\\'s win, good job!')\n",
    "            break\n",
    "\n",
    "\n",
    "    if isBoardFull(board):\n",
    "        print('Game is a tie! No more spaces left to move.')"
   ]
  },
  {
   "cell_type": "code",
   "execution_count": 7,
   "metadata": {},
   "outputs": [],
   "source": [
    "def isBoardFull(board):\n",
    "    if board.count(' ') > 1:  # Since we always have one blank element in board we must use > 1\n",
    "        return False\n",
    "    else:\n",
    "        return True"
   ]
  },
  {
   "cell_type": "code",
   "execution_count": 8,
   "metadata": {},
   "outputs": [],
   "source": [
    "def playerMove():\n",
    "    run = True\n",
    "    while run:  # Keep looping until we get a valid move\n",
    "        move = input('Please select a position to place an \\'X\\' (1-9): ')\n",
    "        try:\n",
    "            move  = int(move)\n",
    "            if move > 0 and move < 10:  # makes sure we type in a number between 1-9\n",
    "                if spaceIsFree(move):  # check if the move we choose is valid (no other letter is there already)\n",
    "                    run = False\n",
    "                    insertBoard('X', move)\n",
    "                else:\n",
    "                    print('This postion is already occupied!')\n",
    "            else:\n",
    "                print('Please type a number within the range!')\n",
    "        except:\n",
    "            print('Please type a number!')"
   ]
  },
  {
   "cell_type": "code",
   "execution_count": 9,
   "metadata": {},
   "outputs": [],
   "source": [
    "def compMove():\n",
    "    possibleMoves = [x for x, letter in enumerate(board) if letter == ' ' and x != 0] # Create a list of possible moves\n",
    "    move = 0\n",
    "    \n",
    "    #Check for possible winning move to take or to block opponents winning move\n",
    "    for let in ['O','X']:\n",
    "        for i in possibleMoves:\n",
    "            boardCopy = board[:]\n",
    "            boardCopy[i] = let\n",
    "            if isWinner(boardCopy, let):\n",
    "                move = i\n",
    "                return move\n",
    "\n",
    "\n",
    "    #Try to take one of the corners\n",
    "    cornersOpen = []\n",
    "    for i in possibleMoves:\n",
    "        if i in [1,3,7,9]:\n",
    "            cornersOpen.append(i)\n",
    "    if len(cornersOpen) > 0:\n",
    "        move = selectRandom(cornersOpen)\n",
    "        return move\n",
    "    \n",
    "    #Try to take the center\n",
    "    if 5 in possibleMoves:\n",
    "        move = 5\n",
    "        return move\n",
    "\n",
    "    #Take any edge\n",
    "    edgesOpen = []\n",
    "    for i in possibleMoves:\n",
    "        if i in [2,4,6,8]:\n",
    "            edgesOpen.append(i)\n",
    "    \n",
    "    if len(edgesOpen) > 0:\n",
    "        move = selectRandom(edgesOpen)\n",
    "\n",
    "    return move"
   ]
  },
  {
   "cell_type": "code",
   "execution_count": 10,
   "metadata": {},
   "outputs": [],
   "source": [
    "def selectRandom(li):\n",
    "    import random\n",
    "    ln = len(li)\n",
    "    r = random.randrange(0, ln)\n",
    "    return li[r]"
   ]
  },
  {
   "cell_type": "code",
   "execution_count": null,
   "metadata": {},
   "outputs": [],
   "source": [
    "while True:\n",
    "    answer = input('Do you want to play again? (Y/N)')\n",
    "    if answer.lower() == 'y' or answer.lower == 'yes':\n",
    "        board = [' ' for x in range(10)]\n",
    "        print('-----------------------------------')\n",
    "        main()\n",
    "    else:\n",
    "        break"
   ]
  },
  {
   "cell_type": "code",
   "execution_count": null,
   "metadata": {},
   "outputs": [],
   "source": []
  }
 ],
 "metadata": {
  "kernelspec": {
   "display_name": "Python 3",
   "language": "python",
   "name": "python3"
  },
  "language_info": {
   "codemirror_mode": {
    "name": "ipython",
    "version": 3
   },
   "file_extension": ".py",
   "mimetype": "text/x-python",
   "name": "python",
   "nbconvert_exporter": "python",
   "pygments_lexer": "ipython3",
   "version": "3.7.3"
  }
 },
 "nbformat": 4,
 "nbformat_minor": 2
}
